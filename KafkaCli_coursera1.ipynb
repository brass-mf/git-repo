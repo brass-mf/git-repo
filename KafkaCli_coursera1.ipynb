{
  "nbformat": 4,
  "nbformat_minor": 0,
  "metadata": {
    "colab": {
      "name": "KafkaCli.ipynb",
      "provenance": [],
      "include_colab_link": true
    },
    "kernelspec": {
      "display_name": "Python 3",
      "language": "python",
      "name": "python3"
    }
  },
  "cells": [
    {
      "cell_type": "markdown",
      "metadata": {
        "id": "view-in-github",
        "colab_type": "text"
      },
      "source": [
        "<a href=\"https://colab.research.google.com/github/brass-mf/git-repo/blob/master/KafkaCli_coursera1.ipynb\" target=\"_parent\"><img src=\"https://colab.research.google.com/assets/colab-badge.svg\" alt=\"Open In Colab\"/></a>"
      ]
    },
    {
      "cell_type": "markdown",
      "metadata": {
        "colab_type": "text",
        "id": "5l6hRRC-Z3lt"
      },
      "source": [
        "## Practice with Kafka CLI\n",
        "\n",
        "This is the Kafka environment where you should make the tasks described below. Each task should be solved using a shell script or a single shell command. Please write the tasks exactly in appropriate cells and don't change any other cells. Some tasks require kernel interruption so don't be afraid to interrupt kernel if you see that the tasks don't stop for a long time.\n",
        "\n",
        "The following urls of the Kafka infrastructure will be useful for tasks:\n",
        "\n",
        "|Service|URL|\n",
        "|------|----|\n",
        "|Zookeeper server|localhost:2181|\n",
        "|Kafka broker|localhost:9092|\n",
        "|Bootstrap server|localhost:9092|\n",
        "\n",
        "To list available Kafka command execute `! ls $KAFKA_HOME/bin`"
      ]
    },
    {
      "cell_type": "markdown",
      "metadata": {
        "colab_type": "text",
        "id": "CByVqQQVZ3lx"
      },
      "source": [
        "**Task 1.** Create a topic with *N* partitons and *M* replications. E.g. *N = 5, M = 2*."
      ]
    },
    {
      "cell_type": "code",
      "metadata": {
        "colab_type": "code",
        "id": "9xPiAKj2Z3l0",
        "colab": {}
      },
      "source": [
        "! kafka-topics.sh --create --zookeeper localhost:2181 --replication-factor 2 --partitions 5 --topic my-topic"
      ],
      "execution_count": 0,
      "outputs": []
    },
    {
      "cell_type": "markdown",
      "metadata": {
        "colab_type": "text",
        "id": "MVuQE-mIZ3l-"
      },
      "source": [
        "**Task 2.** List all the available topics."
      ]
    },
    {
      "cell_type": "code",
      "metadata": {
        "colab_type": "code",
        "id": "pqw7KkTZZ3mC",
        "colab": {}
      },
      "source": [
        "! kafka-topics.sh --zookeeper localhost:2181 --list"
      ],
      "execution_count": 0,
      "outputs": []
    },
    {
      "cell_type": "markdown",
      "metadata": {
        "colab_type": "text",
        "id": "yFIn1qnRZ3mJ"
      },
      "source": [
        "**Task 3.** Describe the topic created in task 1."
      ]
    },
    {
      "cell_type": "code",
      "metadata": {
        "colab_type": "code",
        "id": "9ASQGneDZ3mK",
        "colab": {}
      },
      "source": [
        "! kafka-topics.sh --zookeeper localhost:2181 --describe"
      ],
      "execution_count": 0,
      "outputs": []
    },
    {
      "cell_type": "markdown",
      "metadata": {
        "colab_type": "text",
        "id": "n5SJPm1PZ3mP"
      },
      "source": [
        "**Task 4.** Push the numbers from 1 to 20 into the topic created in task 1. Each number should be pushed as an independent action. Use `kafka-console-producer`.\n",
        "\n",
        "---\n",
        "\n"
      ]
    },
    {
      "cell_type": "markdown",
      "metadata": {
        "id": "h5X_0Ty9TH9T",
        "colab_type": "text"
      },
      "source": [
        ""
      ]
    },
    {
      "cell_type": "code",
      "metadata": {
        "colab_type": "code",
        "id": "yKa0bM4vZ3mS",
        "colab": {}
      },
      "source": [
        "! seq 1 20 | kafka-console-producer.sh --topic my-topic --broker-list localhost:9092"
      ],
      "execution_count": 0,
      "outputs": []
    },
    {
      "cell_type": "markdown",
      "metadata": {
        "colab_type": "text",
        "id": "s9P4rMWAZ3mZ"
      },
      "source": [
        "**Task 5.** Fetch all the data from the topic. Make sure that Kafka doesn't store the order of messages (in this case message is a number passed to the topic). Use `kafka-simple-consumer`"
      ]
    },
    {
      "cell_type": "code",
      "metadata": {
        "colab_type": "code",
        "id": "zGJnbR2EZ3mZ",
        "colab": {}
      },
      "source": [
        "! kafka-simple-consumer.sh --topic my-topic --broker-list localhost:9092"
      ],
      "execution_count": 0,
      "outputs": []
    },
    {
      "cell_type": "markdown",
      "metadata": {
        "colab_type": "text",
        "id": "gG_lydgtZ3me"
      },
      "source": [
        "**Task 6.** Fetch the data from the partition *k*, *k < N*."
      ]
    },
    {
      "cell_type": "code",
      "metadata": {
        "colab_type": "code",
        "id": "PfVMPn5pZ3me",
        "colab": {}
      },
      "source": [
        "! kafka-simple-consumer-shell.sh --topic my-topic --broker-list localhost:9092 --partition 1 --offset -2"
      ],
      "execution_count": 0,
      "outputs": []
    },
    {
      "cell_type": "markdown",
      "metadata": {
        "colab_type": "text",
        "id": "rW-5mybzZ3mg"
      },
      "source": [
        "** Task 7.** Get the latest offset from all the partitions."
      ]
    },
    {
      "cell_type": "code",
      "metadata": {
        "colab_type": "code",
        "id": "nav-HouCZ3mh",
        "colab": {}
      },
      "source": [
        "! kafka-run-class.sh kafka.tools.GetOffsetShell --broker-list localhost:9092 --topic my-top"
      ],
      "execution_count": 0,
      "outputs": []
    }
  ]
}